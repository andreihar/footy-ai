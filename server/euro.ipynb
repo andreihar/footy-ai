{
 "cells": [
  {
   "cell_type": "markdown",
   "id": "3e0b465e",
   "metadata": {
    "papermill": {
     "duration": 0.008014,
     "end_time": "2024-06-01T20:10:13.915014",
     "exception": false,
     "start_time": "2024-06-01T20:10:13.907000",
     "status": "completed"
    },
    "tags": []
   },
   "source": [
    "# Euro 2024\n",
    "\n",
    "Datasets and info:\n",
    "- Matches taken from [International football results from 1872 to 2024](https://www.kaggle.com/datasets/martj42/international-football-results-from-1872-to-2017)\n",
    "- ELO data taken from [World Football Elo Ratings](https://www.eloratings.net/)\n",
    "- [A Mathematician's Guide to the World Cup](https://www.youtube.com/watch?v=KjISuZ5o06Q)"
   ]
  },
  {
   "cell_type": "markdown",
   "id": "c2e491dc",
   "metadata": {},
   "source": [
    "## Preprocess Data"
   ]
  },
  {
   "cell_type": "code",
   "execution_count": 1,
   "id": "5fd29a1a",
   "metadata": {},
   "outputs": [],
   "source": [
    "import os\n",
    "import csv"
   ]
  },
  {
   "cell_type": "code",
   "execution_count": 2,
   "id": "07205d86",
   "metadata": {},
   "outputs": [],
   "source": [
    "folder_path = 'euro'\n",
    "\n",
    "required_attributes = ['home_team', 'away_team', 'home_score', 'away_score', 'home_penalty', 'away_penalty', 'home_score_total', 'away_score_total', 'date', 'stage', 'stadium', 'city']\n",
    "stage_mapping = {'ROUND_OF_16': 'Round of 16', 'SEMIFINAL': 'Semi-finals', 'FINAL': 'Final', 'THIRD_PLAY_OFF': 'Third-place play-off', 'QUARTER_FINALS': 'Quarter-finals'}\n",
    "countries = {'Republic of Ireland':'Ireland','USSR':'Russia','West Germany':'Germany','Commonwealth of Independent States':'Russia','Türkiye':'Turkey','Czechoslovakia':'Czechia','Yugoslavia':'Serbia'}\n",
    "special_attr_mapping = {\n",
    "    'date': 'date_time','stadium': 'stadium_name','city': 'stadium_city',\n",
    "    'stage': lambda row: row.get('group_name', '').strip() or stage_mapping.get(row.get('round', '')),\n",
    "    'home_team': lambda row: countries.get(row.get('home_team', ''), row.get('home_team', '')),\n",
    "    'away_team': lambda row: countries.get(row.get('away_team', ''), row.get('away_team', ''))\n",
    "}\n",
    "\n",
    "def adjust_score_total(score, penalty, score_total):\n",
    "    return str(score + penalty) if score + penalty > score_total else str(score_total)\n",
    "\n",
    "for file_name in os.listdir(folder_path):\n",
    "    if file_name.endswith('.csv'):\n",
    "        source_file_path = os.path.join(folder_path, file_name)\n",
    "        destination_file_path = os.path.join(folder_path, file_name)\n",
    "\n",
    "        with open(source_file_path, mode='r', encoding='utf-8') as source_file:\n",
    "            csv_reader = csv.DictReader(source_file)\n",
    "            filtered_rows = []\n",
    "\n",
    "            for row in csv_reader:\n",
    "                filtered_row = {}\n",
    "                for attr in required_attributes:\n",
    "                    if attr in ['home_score', 'away_score', 'home_penalty', 'away_penalty', 'home_score_total', 'away_score_total']:\n",
    "                        value = row.get(attr, '')\n",
    "                        filtered_row[attr] = str(int(float(value))) if value else ''\n",
    "                    elif attr in special_attr_mapping:\n",
    "                        mapping = special_attr_mapping[attr]\n",
    "                        if callable(mapping):\n",
    "                            filtered_row[attr] = mapping(row)\n",
    "                        else:\n",
    "                            filtered_row[attr] = row.get(mapping, '')\n",
    "                    else:\n",
    "                        filtered_row[attr] = row.get(attr, '')\n",
    "\n",
    "                filtered_row['home_score_total'] = adjust_score_total(int(filtered_row.get('home_score', '0') or 0),int(filtered_row.get('home_penalty', '0') or 0),int(filtered_row.get('home_score_total', '0') or 0))\n",
    "                filtered_row['away_score_total'] = adjust_score_total(int(filtered_row.get('away_score', '0') or 0),int(filtered_row.get('away_penalty', '0') or 0),int(filtered_row.get('away_score_total', '0') or 0))\n",
    "\n",
    "                filtered_rows.append(filtered_row)\n",
    "        \n",
    "        with open(destination_file_path, mode='w', newline='', encoding='utf-8') as destination_file:\n",
    "            csv_writer = csv.DictWriter(destination_file, fieldnames=required_attributes)\n",
    "            csv_writer.writeheader()\n",
    "            csv_writer.writerows(filtered_rows)"
   ]
  },
  {
   "cell_type": "code",
   "execution_count": 15,
   "id": "7221e263",
   "metadata": {
    "execution": {
     "iopub.execute_input": "2024-06-01T20:10:14.858685Z",
     "iopub.status.busy": "2024-06-01T20:10:14.857845Z",
     "iopub.status.idle": "2024-06-01T20:10:14.863776Z",
     "shell.execute_reply": "2024-06-01T20:10:14.862607Z"
    },
    "papermill": {
     "duration": 0.016244,
     "end_time": "2024-06-01T20:10:14.866036",
     "exception": false,
     "start_time": "2024-06-01T20:10:14.849792",
     "status": "completed"
    },
    "tags": []
   },
   "outputs": [],
   "source": [
    "uefa_changes = {\n",
    "    1960: ['Albania', 'Austria', 'Belgium', 'Bulgaria', 'Czechia', 'Denmark', 'East Germany', 'England', 'Finland', 'France', 'Germany', 'Greece', 'Hungary', 'Iceland', 'Ireland', 'Italy', 'Luxembourg', 'Netherlands', 'Northern Ireland', 'Norway', 'Poland', 'Portugal', 'Romania', 'Russia', 'Scotland', 'Serbia', 'Spain', 'Sweden', 'Switzerland', 'Turkey', 'Wales'],\n",
    "    1964: ['Cyprus', 'Malta'],\n",
    "    1984: ['Liechtenstein'],\n",
    "    1992: ['Faroe Islands', 'San Marino', '-East Germany'],\n",
    "    1996: ['Armenia', 'Azerbaijan', 'Belarus', 'Croatia', 'Estonia', 'Georgia', 'Israel', 'Latvia', 'Lithuania', 'Moldova', 'North Macedonia', 'Slovakia', 'Slovenia', 'Ukraine'],\n",
    "    2000: ['Andorra', 'Bosnia and Herzegovina'],\n",
    "    2004: ['Kazakhstan'],\n",
    "    2008: ['Montenegro'],\n",
    "    2016: ['Gibraltar'],\n",
    "    2020: ['Kosovo']\n",
    "}\n",
    "\n",
    "def get_uefa_countries(year):\n",
    "    uefa_countries = set()\n",
    "    for change_year, countries in uefa_changes.items():\n",
    "        if change_year <= year:\n",
    "            for country in countries:\n",
    "                if country.startswith('-'):\n",
    "                    uefa_countries.remove(country[1:])\n",
    "                else:\n",
    "                    uefa_countries.add(country)\n",
    "    return sorted(list(uefa_countries))"
   ]
  },
  {
   "cell_type": "markdown",
   "id": "08159d56",
   "metadata": {},
   "source": [
    "## Prediction Model"
   ]
  },
  {
   "cell_type": "code",
   "execution_count": 4,
   "id": "206f57d6",
   "metadata": {},
   "outputs": [],
   "source": [
    "import numpy as np\n",
    "import pandas as pd\n",
    "from sklearn.linear_model import LinearRegression"
   ]
  },
  {
   "cell_type": "code",
   "execution_count": 16,
   "id": "19f33f38",
   "metadata": {
    "execution": {
     "iopub.execute_input": "2024-06-01T20:10:14.894279Z",
     "iopub.status.busy": "2024-06-01T20:10:14.893897Z",
     "iopub.status.idle": "2024-06-01T20:10:30.414721Z",
     "shell.execute_reply": "2024-06-01T20:10:30.413628Z"
    },
    "papermill": {
     "duration": 15.531451,
     "end_time": "2024-06-01T20:10:30.417377",
     "exception": false,
     "start_time": "2024-06-01T20:10:14.885926",
     "status": "completed"
    },
    "tags": []
   },
   "outputs": [],
   "source": [
    "def create_predictions(date_to, teams_list):\n",
    "    date_from = str(int(date_to.split('-')[0])-4) + '-01-01'\n",
    "\n",
    "    elo_ratings = pd.read_csv(\"data/elo.csv\")\n",
    "    match_results = pd.read_csv(\"data/results.csv\")\n",
    "    team_stats = {}\n",
    "\n",
    "    # Preprocess ELO ratings for quick access\n",
    "    elo_ratings_dict = {(row['team'], row['year']): row['rating'] for idx, row in elo_ratings.iterrows()}\n",
    "\n",
    "    def update_team_stats(team, opponent_score, team_score, elo_diff):\n",
    "        if team not in team_stats:\n",
    "            team_stats[team] = {'total_score': team_score, 'games': 1, 'scores': [team_score], \n",
    "                                'opponent_scores': [opponent_score], 'elo_diffs': [elo_diff]}\n",
    "        else:\n",
    "            stats = team_stats[team]\n",
    "            stats['total_score'] += team_score\n",
    "            stats['games'] += 1\n",
    "            stats['scores'].append(team_score)\n",
    "            stats['opponent_scores'].append(opponent_score)\n",
    "            stats['elo_diffs'].append(elo_diff)\n",
    "\n",
    "    # Matches within the date range\n",
    "    filtered_matches = match_results.loc[(match_results['date'] > date_from) & (match_results['date'] <= date_to)]\n",
    "\n",
    "    for idx, match in filtered_matches.iterrows():\n",
    "        home_team, away_team = match[\"home_team\"], match[\"away_team\"]\n",
    "        match_year = int(match['date'][:4])\n",
    "\n",
    "        home_elo = elo_ratings_dict.get((home_team, match_year))\n",
    "        away_elo = elo_ratings_dict.get((away_team, match_year))\n",
    "\n",
    "        # Skip the match if ELO ratings are missing\n",
    "        if home_elo is None or away_elo is None:\n",
    "            continue\n",
    "\n",
    "        update_team_stats(home_team, match[\"away_score\"], match[\"home_score\"], home_elo - away_elo)\n",
    "        update_team_stats(away_team, match[\"home_score\"], match[\"away_score\"], away_elo - home_elo)\n",
    "\n",
    "    xG = {team: stats['total_score'] / stats['games'] for team, stats in team_stats.items()}\n",
    "\n",
    "    X, y = [], []\n",
    "    for team, stats in team_stats.items():\n",
    "        X.extend(stats['elo_diffs'])\n",
    "        y.extend((np.array(stats['scores']) - xG[team]).tolist())\n",
    "\n",
    "    X, y = np.array(X).reshape(-1, 1), np.array(y).reshape(-1, 1)\n",
    "\n",
    "    reg = LinearRegression().fit(X, y)\n",
    "\n",
    "    elo_dict = {i: j for i, j in zip(teams_list, [(elo_ratings[(elo_ratings['year'] == int(date_to.split('-')[0])) & (elo_ratings['team'] == team)]['rating']).to_list()[0] for team in teams_list])}\n",
    "    return elo_dict, reg, xG"
   ]
  },
  {
   "cell_type": "code",
   "execution_count": 6,
   "id": "9f55469c",
   "metadata": {
    "execution": {
     "iopub.execute_input": "2024-06-01T20:10:38.913703Z",
     "iopub.status.busy": "2024-06-01T20:10:38.913307Z",
     "iopub.status.idle": "2024-06-01T20:10:39.375062Z",
     "shell.execute_reply": "2024-06-01T20:10:39.373832Z"
    },
    "papermill": {
     "duration": 0.476222,
     "end_time": "2024-06-01T20:10:39.377418",
     "exception": false,
     "start_time": "2024-06-01T20:10:38.901196",
     "status": "completed"
    },
    "tags": []
   },
   "outputs": [],
   "source": [
    "def match(elo_dict, reg, xG, home, away, allow_draw=True):\n",
    "    home_advantage = int(reg.predict(np.array(elo_dict[home] - elo_dict[away]).reshape(-1, 1)))\n",
    "    away_advantage = int(reg.predict(np.array(elo_dict[away] - elo_dict[home]).reshape(-1, 1)))\n",
    "    home_score = np.random.poisson(xG[home], 10000) + home_advantage\n",
    "    away_score = np.random.poisson(xG[away], 10000) + away_advantage\n",
    "\n",
    "    # Calculate win_team for score matrix dimension\n",
    "    win_team = max(home_score.max(), away_score.max())\n",
    "    \n",
    "    scores, counts = np.unique(np.vstack((home_score, away_score)).T, axis=0, return_counts=True)\n",
    "    score_matrix = np.zeros((win_team+1, win_team+1))\n",
    "    score_matrix[scores[:,0], scores[:,1]] = counts\n",
    "\n",
    "    # Calculate win, lose, draw counts\n",
    "    home_win_count = np.sum(np.tril(score_matrix, -1))\n",
    "    away_win_count = np.sum(np.triu(score_matrix, 1))\n",
    "    draw_count = np.sum(np.diag(score_matrix)) if allow_draw else 0\n",
    "\n",
    "    # Determine most probable outcome\n",
    "    outcomes = np.array([home_win_count, away_win_count, draw_count])\n",
    "    most_probable_outcome_index = outcomes.argmax()\n",
    "\n",
    "    # Find the most frequent score for the most probable outcome\n",
    "    if most_probable_outcome_index == 0:  # Home win\n",
    "        score = np.unravel_index(np.argmax(np.tril(score_matrix, -1)), score_matrix.shape)\n",
    "    elif most_probable_outcome_index == 1:  # Away win\n",
    "        score = np.unravel_index(np.argmax(np.triu(score_matrix, 1)), score_matrix.shape)\n",
    "    else:  # Draw\n",
    "        score = np.argmax(np.diag(score_matrix)), np.argmax(np.diag(score_matrix))\n",
    "\n",
    "    # Calculate percentages\n",
    "    total_simulations = outcomes.sum() if allow_draw else home_win_count + away_win_count\n",
    "    home_win = (home_win_count / total_simulations) * 100\n",
    "    away_win = (away_win_count / total_simulations) * 100\n",
    "    draw = (draw_count / total_simulations) * 100\n",
    "    \n",
    "    return home_win, away_win, draw, score"
   ]
  },
  {
   "cell_type": "markdown",
   "id": "f43d4bd3",
   "metadata": {},
   "source": [
    "## Create Prediction CSV"
   ]
  },
  {
   "cell_type": "code",
   "execution_count": 7,
   "id": "fd3031a5",
   "metadata": {},
   "outputs": [],
   "source": [
    "import json\n",
    "from datetime import datetime, timedelta"
   ]
  },
  {
   "cell_type": "code",
   "execution_count": 8,
   "id": "cff89f32",
   "metadata": {},
   "outputs": [],
   "source": [
    "def create_preds_csv(date_to, file_name):\n",
    "    matches_predictions = {}\n",
    "    teams_list = get_uefa_countries(int(date_to.split('-')[0]))\n",
    "    elo_dict, reg, xG = create_predictions(date_to, teams_list)\n",
    "\n",
    "    # Populate the dictionary\n",
    "    for home_team in teams_list:\n",
    "        matches_predictions[home_team] = {}\n",
    "        for groups in [True, False]:\n",
    "            for away_team in teams_list:\n",
    "                if home_team != away_team:\n",
    "                    home_win, away_win, draw, score = match(elo_dict, reg, xG, home_team, away_team, groups)\n",
    "                    match_key = f\"{away_team}_{'1' if groups else '0'}\"\n",
    "                    matches_predictions[home_team][match_key] = {\n",
    "                        \"predictions\": [round(home_win, 2), round(away_win, 2), round(draw, 2)],\n",
    "                        \"scorePrediction\": [int(score[0]), int(score[1])]\n",
    "                    }\n",
    "\n",
    "    header = ['home_team'] + [f\"{away_team}_{'1' if groups else '0'}\" for groups in [True, False] for away_team in teams_list]\n",
    "\n",
    "    # Write to CSV\n",
    "    with open(file_name, 'w+', newline='') as file:\n",
    "        writer = csv.writer(file)\n",
    "        writer.writerow(header)\n",
    "\n",
    "        for home_team, predictions in matches_predictions.items():\n",
    "            row = [home_team]\n",
    "            for away_team_comb in header[1:]:\n",
    "                if away_team_comb in predictions:\n",
    "                    prediction = predictions[away_team_comb]\n",
    "                    row.append(json.dumps(prediction))\n",
    "                else:\n",
    "                    row.append('')\n",
    "            writer.writerow(row)"
   ]
  },
  {
   "cell_type": "code",
   "execution_count": 17,
   "id": "774b7b66",
   "metadata": {},
   "outputs": [],
   "source": [
    "preds_folder_path = 'predictions'\n",
    "\n",
    "if not os.path.exists(preds_folder_path):\n",
    "    os.makedirs(preds_folder_path)\n",
    "\n",
    "for file_name in os.listdir(folder_path):\n",
    "    if file_name.endswith('.csv'):\n",
    "        with open(os.path.join(folder_path, file_name), mode='r', encoding='utf-8') as source_file:\n",
    "            reader = csv.DictReader(source_file)\n",
    "            dates = [datetime.strptime(row['date'], '%Y-%m-%dT%H:%M:%SZ') for row in reader]\n",
    "            formatted_date = (min(dates) - timedelta(days=1)).strftime('%Y-%m-%d')\n",
    "            create_preds_csv(formatted_date, os.path.join(preds_folder_path, file_name))"
   ]
  },
  {
   "cell_type": "markdown",
   "id": "799c566e",
   "metadata": {},
   "source": [
    "It's not coming home 😭🏴󠁧󠁢󠁥󠁮󠁧󠁿"
   ]
  }
 ],
 "metadata": {
  "kaggle": {
   "accelerator": "none",
   "dataSources": [
    {
     "datasetId": 4305,
     "sourceId": 8423407,
     "sourceType": "datasetVersion"
    },
    {
     "datasetId": 5126137,
     "sourceId": 8572765,
     "sourceType": "datasetVersion"
    },
    {
     "datasetId": 5126395,
     "sourceId": 8573157,
     "sourceType": "datasetVersion"
    }
   ],
   "dockerImageVersionId": 30715,
   "isGpuEnabled": false,
   "isInternetEnabled": true,
   "language": "python",
   "sourceType": "notebook"
  },
  "kernelspec": {
   "display_name": "Python 3 (ipykernel)",
   "language": "python",
   "name": "python3"
  },
  "language_info": {
   "codemirror_mode": {
    "name": "ipython",
    "version": 3
   },
   "file_extension": ".py",
   "mimetype": "text/x-python",
   "name": "python",
   "nbconvert_exporter": "python",
   "pygments_lexer": "ipython3",
   "version": "3.8.16"
  },
  "papermill": {
   "default_parameters": {},
   "duration": 2762.70259,
   "end_time": "2024-06-01T20:56:13.744612",
   "environment_variables": {},
   "exception": null,
   "input_path": "__notebook__.ipynb",
   "output_path": "__notebook__.ipynb",
   "parameters": {},
   "start_time": "2024-06-01T20:10:11.042022",
   "version": "2.5.0"
  }
 },
 "nbformat": 4,
 "nbformat_minor": 5
}
