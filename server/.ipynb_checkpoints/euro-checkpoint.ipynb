{
 "cells": [
  {
   "cell_type": "markdown",
   "id": "3e0b465e",
   "metadata": {
    "papermill": {
     "duration": 0.008014,
     "end_time": "2024-06-01T20:10:13.915014",
     "exception": false,
     "start_time": "2024-06-01T20:10:13.907000",
     "status": "completed"
    },
    "tags": []
   },
   "source": [
    "# Euro 2024\n",
    "\n",
    "Datasets and info:\n",
    "- Matches taken from [International football results from 1872 to 2024](https://www.kaggle.com/datasets/martj42/international-football-results-from-1872-to-2017)\n",
    "- ELO data taken from [World Football Elo Ratings](https://www.eloratings.net/)\n",
    "- [A Mathematician's Guide to the World Cup](https://www.youtube.com/watch?v=KjISuZ5o06Q)"
   ]
  },
  {
   "cell_type": "code",
   "execution_count": 1,
   "id": "a2cd3ac3",
   "metadata": {
    "execution": {
     "iopub.execute_input": "2024-06-01T20:10:13.958298Z",
     "iopub.status.busy": "2024-06-01T20:10:13.957466Z",
     "iopub.status.idle": "2024-06-01T20:10:14.840128Z",
     "shell.execute_reply": "2024-06-01T20:10:14.838881Z"
    },
    "papermill": {
     "duration": 0.893483,
     "end_time": "2024-06-01T20:10:14.842532",
     "exception": false,
     "start_time": "2024-06-01T20:10:13.949049",
     "status": "completed"
    },
    "tags": []
   },
   "outputs": [],
   "source": [
    "import numpy as np\n",
    "import pandas as pd\n",
    "from sklearn.linear_model import LinearRegression"
   ]
  },
  {
   "cell_type": "code",
   "execution_count": 11,
   "id": "7221e263",
   "metadata": {
    "execution": {
     "iopub.execute_input": "2024-06-01T20:10:14.858685Z",
     "iopub.status.busy": "2024-06-01T20:10:14.857845Z",
     "iopub.status.idle": "2024-06-01T20:10:14.863776Z",
     "shell.execute_reply": "2024-06-01T20:10:14.862607Z"
    },
    "papermill": {
     "duration": 0.016244,
     "end_time": "2024-06-01T20:10:14.866036",
     "exception": false,
     "start_time": "2024-06-01T20:10:14.849792",
     "status": "completed"
    },
    "tags": []
   },
   "outputs": [],
   "source": [
    "teams_list = [\"Albania\",\"Andorra\",\"Armenia\",\"Austria\",\"Azerbaijan\",\"Belarus\",\"Belgium\",\"Bosnia and Herzegovina\",\"Bulgaria\",\"Croatia\",\"Cyprus\",\"Czechia\",\"Denmark\",\"England\",\"Estonia\",\"Faroe Islands\",\"Finland\",\"France\",\"Georgia\",\"Germany\",\"Gibraltar\",\"Greece\",\"Hungary\",\"Iceland\",\"Israel\",\"Italy\",\"Kazakhstan\",\"Kosovo\",\"Latvia\",\"Liechtenstein\",\"Lithuania\",\"Luxembourg\",\"Malta\",\"Moldova\",\"Monaco\",\"Montenegro\",\"Netherlands\",\"North Macedonia\",\"Northern Ireland\",\"Norway\",\"Poland\",\"Portugal\",\"Ireland\",\"Romania\",\"Russia\",\"San Marino\",\"Scotland\",\"Serbia\",\"Slovakia\",\"Slovenia\",\"Spain\",\"Sweden\",\"Switzerland\",\"Turkey\",\"Ukraine\",\"Wales\"]"
   ]
  },
  {
   "cell_type": "code",
   "execution_count": 12,
   "id": "19f33f38",
   "metadata": {
    "execution": {
     "iopub.execute_input": "2024-06-01T20:10:14.894279Z",
     "iopub.status.busy": "2024-06-01T20:10:14.893897Z",
     "iopub.status.idle": "2024-06-01T20:10:30.414721Z",
     "shell.execute_reply": "2024-06-01T20:10:30.413628Z"
    },
    "papermill": {
     "duration": 15.531451,
     "end_time": "2024-06-01T20:10:30.417377",
     "exception": false,
     "start_time": "2024-06-01T20:10:14.885926",
     "status": "completed"
    },
    "tags": []
   },
   "outputs": [],
   "source": [
    "date_from = '2020-01-01'\n",
    "date_to = '2024-06-12'\n",
    "\n",
    "elo_ratings = pd.read_csv(\"data/elo.csv\")\n",
    "match_results = pd.read_csv(\"data/results.csv\")\n",
    "team_stats = {}\n",
    "\n",
    "# Preprocess ELO ratings for quick access\n",
    "elo_ratings_dict = {(row['team'], row['year']): row['rating'] for idx, row in elo_ratings.iterrows()}\n",
    "\n",
    "def update_team_stats(team, opponent_score, team_score, elo_diff):\n",
    "    if team not in team_stats:\n",
    "        team_stats[team] = {'total_score': team_score, 'games': 1, 'scores': [team_score], \n",
    "                            'opponent_scores': [opponent_score], 'elo_diffs': [elo_diff]}\n",
    "    else:\n",
    "        stats = team_stats[team]\n",
    "        stats['total_score'] += team_score\n",
    "        stats['games'] += 1\n",
    "        stats['scores'].append(team_score)\n",
    "        stats['opponent_scores'].append(opponent_score)\n",
    "        stats['elo_diffs'].append(elo_diff)\n",
    "\n",
    "# Matches within the date range\n",
    "filtered_matches = match_results.loc[(match_results['date'] > date_from) & (match_results['date'] <= date_to)]\n",
    "\n",
    "for idx, match in filtered_matches.iterrows():\n",
    "    home_team, away_team = match[\"home_team\"], match[\"away_team\"]\n",
    "    match_year = int(match['date'][:4])\n",
    "    \n",
    "    home_elo = elo_ratings_dict.get((home_team, match_year))\n",
    "    away_elo = elo_ratings_dict.get((away_team, match_year))\n",
    "\n",
    "    # Skip the match if ELO ratings are missing\n",
    "    if home_elo is None or away_elo is None:\n",
    "        continue\n",
    "\n",
    "    update_team_stats(home_team, match[\"away_score\"], match[\"home_score\"], home_elo - away_elo)\n",
    "    update_team_stats(away_team, match[\"home_score\"], match[\"away_score\"], away_elo - home_elo)"
   ]
  },
  {
   "cell_type": "code",
   "execution_count": 13,
   "id": "9cafda33",
   "metadata": {
    "execution": {
     "iopub.execute_input": "2024-06-01T20:10:37.254046Z",
     "iopub.status.busy": "2024-06-01T20:10:37.252616Z",
     "iopub.status.idle": "2024-06-01T20:10:37.259850Z",
     "shell.execute_reply": "2024-06-01T20:10:37.258807Z"
    },
    "papermill": {
     "duration": 0.020348,
     "end_time": "2024-06-01T20:10:37.262260",
     "exception": false,
     "start_time": "2024-06-01T20:10:37.241912",
     "status": "completed"
    },
    "tags": []
   },
   "outputs": [],
   "source": [
    "xG = {team: stats['total_score'] / stats['games'] for team, stats in team_stats.items()}\n",
    "\n",
    "X, y = [], []\n",
    "for team, stats in team_stats.items():\n",
    "    X.extend(stats['elo_diffs'])\n",
    "    y.extend((np.array(stats['scores']) - xG[team]).tolist())\n",
    "\n",
    "X, y = np.array(X).reshape(-1, 1), np.array(y).reshape(-1, 1)\n",
    "\n",
    "reg = LinearRegression().fit(X, y)\n",
    "\n",
    "elo_dict = {i: j for i, j in zip(teams_list, [(elo_ratings[(elo_ratings['year'] == int(date_to.split('-')[0])) & (elo_ratings['team'] == team)]['rating']).to_list()[0] for team in teams_list])}"
   ]
  },
  {
   "cell_type": "code",
   "execution_count": 14,
   "id": "9f55469c",
   "metadata": {
    "execution": {
     "iopub.execute_input": "2024-06-01T20:10:38.913703Z",
     "iopub.status.busy": "2024-06-01T20:10:38.913307Z",
     "iopub.status.idle": "2024-06-01T20:10:39.375062Z",
     "shell.execute_reply": "2024-06-01T20:10:39.373832Z"
    },
    "papermill": {
     "duration": 0.476222,
     "end_time": "2024-06-01T20:10:39.377418",
     "exception": false,
     "start_time": "2024-06-01T20:10:38.901196",
     "status": "completed"
    },
    "tags": []
   },
   "outputs": [],
   "source": [
    "def match(home, away, allow_draw=True):\n",
    "    home_advantage = int(reg.predict(np.array(elo_dict[home] - elo_dict[away]).reshape(-1, 1)))\n",
    "    away_advantage = int(reg.predict(np.array(elo_dict[away] - elo_dict[home]).reshape(-1, 1)))\n",
    "    home_score = np.random.poisson(xG[home], 10000) + home_advantage\n",
    "    away_score = np.random.poisson(xG[away], 10000) + away_advantage\n",
    "\n",
    "    # Calculate win_team for score matrix dimension\n",
    "    win_team = max(home_score.max(), away_score.max())\n",
    "    \n",
    "    scores, counts = np.unique(np.vstack((home_score, away_score)).T, axis=0, return_counts=True)\n",
    "    score_matrix = np.zeros((win_team+1, win_team+1))\n",
    "    score_matrix[scores[:,0], scores[:,1]] = counts\n",
    "\n",
    "    # Calculate win, lose, draw counts\n",
    "    home_win_count = np.sum(np.tril(score_matrix, -1))\n",
    "    away_win_count = np.sum(np.triu(score_matrix, 1))\n",
    "    draw_count = np.sum(np.diag(score_matrix)) if allow_draw else 0\n",
    "\n",
    "    # Determine most probable outcome\n",
    "    outcomes = np.array([home_win_count, away_win_count, draw_count])\n",
    "    most_probable_outcome_index = outcomes.argmax()\n",
    "\n",
    "    # Find the most frequent score for the most probable outcome\n",
    "    if most_probable_outcome_index == 0:  # Home win\n",
    "        score = np.unravel_index(np.argmax(np.tril(score_matrix, -1)), score_matrix.shape)\n",
    "    elif most_probable_outcome_index == 1:  # Away win\n",
    "        score = np.unravel_index(np.argmax(np.triu(score_matrix, 1)), score_matrix.shape)\n",
    "    else:  # Draw\n",
    "        score = np.argmax(np.diag(score_matrix)), np.argmax(np.diag(score_matrix))\n",
    "\n",
    "    # Calculate percentages\n",
    "    total_simulations = outcomes.sum() if allow_draw else home_win_count + away_win_count\n",
    "    home_win = (home_win_count / total_simulations) * 100\n",
    "    away_win = (away_win_count / total_simulations) * 100\n",
    "    draw = (draw_count / total_simulations) * 100\n",
    "    \n",
    "    return home_win, away_win, draw, score"
   ]
  },
  {
   "cell_type": "code",
   "execution_count": 20,
   "id": "ce2f4b78",
   "metadata": {},
   "outputs": [
    {
     "name": "stdout",
     "output_type": "stream",
     "text": [
      "Home Win Percentage: 98.25%\n",
      "Away Win Percentage: 1.75%\n",
      "Draw Percentage: 0.00%\n",
      "Most Probable Outcome: (11, 4)\n"
     ]
    }
   ],
   "source": [
    "home_win, away_win, draw, score = match(\"San Marino\",\"France\", False)\n",
    "\n",
    "# Print the results\n",
    "print(f\"Home Win Percentage: {home_win:.2f}%\")\n",
    "print(f\"Away Win Percentage: {away_win:.2f}%\")\n",
    "print(f\"Draw Percentage: {draw:.2f}%\")\n",
    "print(f\"Most Probable Outcome: {score}\")"
   ]
  },
  {
   "cell_type": "code",
   "execution_count": 10,
   "id": "cff89f32",
   "metadata": {},
   "outputs": [],
   "source": [
    "import json\n",
    "\n",
    "matches_predictions = {}\n",
    "\n",
    "# Generate all possible match combinations\n",
    "for groups in [True, False]:\n",
    "    for home_team in teams_list:\n",
    "        for away_team in teams_list:\n",
    "            if home_team != away_team:  # Ensure we don't match a team with itself\n",
    "                # Call the match function\n",
    "                home_win, away_win, draw, score = match(home_team, away_team, groups)\n",
    "                \n",
    "                # Format the key as \"HomeTeam_vs_AwayTeam\"\n",
    "                match_key = f\"{home_team}_{away_team}_{'0' if not groups else '1'}\"\n",
    "                \n",
    "                # Store the results in the dictionary\n",
    "                matches_predictions[match_key] = {\n",
    "                    \"predictions\": [round(home_win, 2), round(away_win, 2), round(draw, 2)],\n",
    "                    \"scorePrediction\": [int(score[0]), int(score[1])]\n",
    "                }\n",
    "\n",
    "# Convert the dictionary to a JSON string\n",
    "matches_predictions_json = json.dumps(matches_predictions, indent=4)\n",
    "\n",
    "# To save the JSON to a file\n",
    "with open('matches_predictions.json', 'w+') as file:\n",
    "    file.write(matches_predictions_json)"
   ]
  },
  {
   "cell_type": "markdown",
   "id": "799c566e",
   "metadata": {},
   "source": [
    "It's not coming home 😭🏴󠁧󠁢󠁥󠁮󠁧󠁿"
   ]
  }
 ],
 "metadata": {
  "kaggle": {
   "accelerator": "none",
   "dataSources": [
    {
     "datasetId": 4305,
     "sourceId": 8423407,
     "sourceType": "datasetVersion"
    },
    {
     "datasetId": 5126137,
     "sourceId": 8572765,
     "sourceType": "datasetVersion"
    },
    {
     "datasetId": 5126395,
     "sourceId": 8573157,
     "sourceType": "datasetVersion"
    }
   ],
   "dockerImageVersionId": 30715,
   "isGpuEnabled": false,
   "isInternetEnabled": true,
   "language": "python",
   "sourceType": "notebook"
  },
  "kernelspec": {
   "display_name": "Python 3 (ipykernel)",
   "language": "python",
   "name": "python3"
  },
  "language_info": {
   "codemirror_mode": {
    "name": "ipython",
    "version": 3
   },
   "file_extension": ".py",
   "mimetype": "text/x-python",
   "name": "python",
   "nbconvert_exporter": "python",
   "pygments_lexer": "ipython3",
   "version": "3.8.16"
  },
  "papermill": {
   "default_parameters": {},
   "duration": 2762.70259,
   "end_time": "2024-06-01T20:56:13.744612",
   "environment_variables": {},
   "exception": null,
   "input_path": "__notebook__.ipynb",
   "output_path": "__notebook__.ipynb",
   "parameters": {},
   "start_time": "2024-06-01T20:10:11.042022",
   "version": "2.5.0"
  }
 },
 "nbformat": 4,
 "nbformat_minor": 5
}
